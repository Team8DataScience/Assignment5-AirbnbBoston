{
 "cells": [
  {
   "cell_type": "markdown",
   "metadata": {},
   "source": [
    "# BostonAirbnb Exploratry Data Analysis"
   ]
  },
  {
   "cell_type": "code",
   "execution_count": 1,
   "metadata": {},
   "outputs": [],
   "source": [
    "import os\n",
    "import numpy as np\n",
    "import pandas as pd\n",
    "import matplotlib.pyplot as plt\n",
    "%matplotlib inline"
   ]
  },
  {
   "cell_type": "code",
   "execution_count": 2,
   "metadata": {},
   "outputs": [],
   "source": [
    "from sklearn.preprocessing import normalize\n",
    "from sklearn.model_selection import train_test_split\n",
    "from sklearn.linear_model import LinearRegression\n",
    "from sklearn.linear_model import Ridge\n",
    "from sklearn.linear_model import LogisticRegression\n",
    "from sklearn.neural_network import MLPRegressor\n",
    "from sklearn.ensemble import RandomForestRegressor\n",
    "from sklearn.feature_selection import RFE\n",
    "from sklearn.neighbors import KNeighborsRegressor"
   ]
  },
  {
   "cell_type": "code",
   "execution_count": 3,
   "metadata": {},
   "outputs": [],
   "source": [
    "# Read in excel file data\n",
    "df = pd.read_csv('airbnb.csv', low_memory=False)"
   ]
  },
  {
   "cell_type": "code",
   "execution_count": 4,
   "metadata": {},
   "outputs": [
    {
     "name": "stdout",
     "output_type": "stream",
     "text": [
      "(61280, 107)\n",
      "['Unnamed: 0', 'access', 'accommodates', 'amenities', 'availability_30', 'availability_365', 'availability_60', 'availability_90', 'bathrooms', 'bed_type', 'bedrooms', 'beds', 'calculated_host_listings_count', 'calculated_host_listings_count_entire_homes', 'calculated_host_listings_count_private_rooms', 'calculated_host_listings_count_shared_rooms', 'calendar_last_scraped', 'calendar_updated', 'cancellation_policy', 'city', 'cleaning_fee', 'country', 'country_code', 'description', 'experiences_offered', 'extra_people', 'first_review', 'guests_included', 'has_availability', 'host_about', 'host_acceptance_rate', 'host_has_profile_pic', 'host_id', 'host_identity_verified', 'host_is_superhost', 'host_listings_count', 'host_location', 'host_name', 'host_neighbourhood', 'host_picture_url', 'host_response_rate', 'host_response_time', 'host_since', 'host_thumbnail_url', 'host_total_listings_count', 'host_url', 'host_verifications', 'house_rules', 'id', 'instant_bookable', 'interaction', 'is_business_travel_ready', 'is_location_exact', 'jurisdiction_names', 'last_review', 'last_scraped', 'latitude', 'license', 'listing_url', 'longitude', 'market', 'maximum_maximum_nights', 'maximum_minimum_nights', 'maximum_nights', 'maximum_nights_avg_ntm', 'medium_url', 'minimum_maximum_nights', 'minimum_minimum_nights', 'minimum_nights', 'minimum_nights_avg_ntm', 'monthly_price', 'name', 'neighborhood_overview', 'neighbourhood', 'neighbourhood_cleansed', 'neighbourhood_group_cleansed', 'notes', 'number_of_reviews', 'number_of_reviews_ltm', 'picture_url', 'price', 'property_type', 'require_guest_phone_verification', 'require_guest_profile_picture', 'requires_license', 'review_scores_accuracy', 'review_scores_checkin', 'review_scores_cleanliness', 'review_scores_communication', 'review_scores_location', 'review_scores_rating', 'review_scores_value', 'reviews_per_month', 'room_type', 'scrape_id', 'security_deposit', 'smart_location', 'space', 'square_feet', 'state', 'street', 'summary', 'thumbnail_url', 'transit', 'weekly_price', 'xl_picture_url', 'zipcode']\n"
     ]
    }
   ],
   "source": [
    "print(df.shape)\n",
    "print(df.columns.tolist())"
   ]
  },
  {
   "cell_type": "markdown",
   "metadata": {},
   "source": [
    "We start off with 61280 listings and 107 features for each of the listings."
   ]
  },
  {
   "cell_type": "markdown",
   "metadata": {},
   "source": [
    "### Data Cleaning (Remove Unnecessary Symbols)"
   ]
  },
  {
   "cell_type": "code",
   "execution_count": 5,
   "metadata": {},
   "outputs": [],
   "source": [
    "# Remove the dollar signs in the 'extra_people' column\n",
    "df['extra_people'] = df['extra_people'].astype(str)\n",
    "df['extra_people'] = df['extra_people'].str.replace('$', '')\n",
    "df['extra_people'] = df['extra_people'].astype(float)\n",
    "\n",
    "# Remove the dollar signs and commas in the 'price' column\n",
    "df['price'] = df['price'].astype(str)\n",
    "df['price'] = df['price'].str.replace('$', '')\n",
    "df['price'] = df['price'].str.replace(',', '')\n",
    "df['price'] = df['price'].astype(float)\n",
    "\n",
    "# Remove the dollar signs and commas in the 'security_deposit' column\n",
    "df['security_deposit'] = df['security_deposit'].astype(str)\n",
    "df['security_deposit'] = df['security_deposit'].str.replace('$', '')\n",
    "df['security_deposit'] = df['security_deposit'].str.replace(',', '')\n",
    "df['security_deposit'] = df['security_deposit'].astype(float)\n",
    "\n",
    "# Remove the dollar signs in the 'cleaning_fee' column\n",
    "df['cleaning_fee'] = df['cleaning_fee'].astype(str)\n",
    "df['cleaning_fee'] = df['cleaning_fee'].str.replace('$', '')\n",
    "df['cleaning_fee'] = df['cleaning_fee'].astype(float)"
   ]
  },
  {
   "cell_type": "markdown",
   "metadata": {},
   "source": [
    "### Data Cleaning (Replace NaN Values)"
   ]
  },
  {
   "cell_type": "code",
   "execution_count": 6,
   "metadata": {},
   "outputs": [],
   "source": [
    "# Replace all the NaN values in \"review_scores_rating\" with the mean value\n",
    "mean_review_scores_rating = np.nanmean(df[\"review_scores_rating\"])\n",
    "df[\"review_scores_rating\"].fillna(value=mean_review_scores_rating, inplace=True)\n",
    "\n",
    "# Replace all the NaN values in \"bathrooms\" to the mean value\n",
    "mean_bathrooms = np.nanmean(df[\"bathrooms\"])\n",
    "df[\"bathrooms\"].fillna(value=mean_bathrooms, inplace=True)\n",
    "\n",
    "# Replace all the NaN values in \"bedrooms\" to the mean value\n",
    "mean_bedrooms = np.nanmean(df[\"bedrooms\"])\n",
    "df[\"bedrooms\"].fillna(value=mean_bedrooms, inplace=True)\n",
    "\n",
    "# Replace all the NaN values in \"beds\" to the mean\"\n",
    "mean_beds = np.nanmean(df[\"beds\"])\n",
    "df[\"beds\"].fillna(value=mean_beds, inplace=True)\n",
    "\n",
    "# Replace all the NaN values in \"security_deposit\" with the mean\n",
    "mean_security_deposit = np.nanmean(df[\"security_deposit\"])\n",
    "df[\"security_deposit\"].fillna(value=mean_security_deposit, inplace=True)\n",
    "\n",
    "# Replace all the NaN values in \"cleaning_fee\" with the mean\n",
    "mean_cleaning_fee = np.nanmean(df[\"cleaning_fee\"])\n",
    "df[\"cleaning_fee\"].fillna(value=mean_cleaning_fee, inplace=True)"
   ]
  },
  {
   "cell_type": "markdown",
   "metadata": {},
   "source": [
    "## Summary Statistics and Visualizations"
   ]
  },
  {
   "cell_type": "markdown",
   "metadata": {},
   "source": [
    "### Average Price for each Neighborhood"
   ]
  },
  {
   "cell_type": "code",
   "execution_count": 7,
   "metadata": {},
   "outputs": [
    {
     "name": "stdout",
     "output_type": "stream",
     "text": [
      "187.71483355091385\n"
     ]
    }
   ],
   "source": [
    "# Determine average price of an Airbnb\n",
    "avg_price = np.mean(df[\"price\"])\n",
    "\n",
    "print(avg_price)"
   ]
  },
  {
   "cell_type": "markdown",
   "metadata": {},
   "source": [
    "The average price of an Airbnb in Boston is $187.71"
   ]
  },
  {
   "cell_type": "markdown",
   "metadata": {},
   "source": [
    "### Maximum Listing Price"
   ]
  },
  {
   "cell_type": "code",
   "execution_count": 8,
   "metadata": {},
   "outputs": [
    {
     "name": "stdout",
     "output_type": "stream",
     "text": [
      "5000.0\n"
     ]
    }
   ],
   "source": [
    "# Determine the most expensive Airbnb listing in Boston\n",
    "max_price = np.max(df[\"price\"])\n",
    "\n",
    "print(max_price)"
   ]
  },
  {
   "cell_type": "markdown",
   "metadata": {},
   "source": [
    " Most expensive Airbnb listing in Boston is $5000."
   ]
  },
  {
   "cell_type": "markdown",
   "metadata": {},
   "source": [
    "### Minimum Listing Price"
   ]
  },
  {
   "cell_type": "code",
   "execution_count": 9,
   "metadata": {},
   "outputs": [
    {
     "name": "stdout",
     "output_type": "stream",
     "text": [
      "0.0\n"
     ]
    }
   ],
   "source": [
    "# Determine the cheapest Airbnb listing\n",
    "min_price = np.min(df[\"price\"])\n",
    "\n",
    "print(min_price)"
   ]
  },
  {
   "cell_type": "markdown",
   "metadata": {},
   "source": [
    "The cheapest Airbnb listing in Boston is $0. This is an outlier for sure, probably shouldn't be inTtraining of the model."
   ]
  },
  {
   "cell_type": "markdown",
   "metadata": {},
   "source": [
    "### Average Price by Neighborhood"
   ]
  },
  {
   "cell_type": "code",
   "execution_count": 10,
   "metadata": {},
   "outputs": [
    {
     "name": "stdout",
     "output_type": "stream",
     "text": [
      "Average prices by neighborhood\n",
      "\n",
      "East Boston: $126\n",
      "Roxbury: $180\n",
      "Roslindale: $90\n",
      "Downtown: $266\n",
      "Mission Hill: $208\n",
      "South End: $211\n",
      "Back Bay: $267\n",
      "Fenway: $225\n",
      "Allston: $142\n",
      "North End: $200\n",
      "Dorchester: $122\n",
      "Beacon Hill: $193\n",
      "West End: $236\n",
      "Jamaica Plain: $145\n",
      "Charlestown: $216\n",
      "Brighton: $116\n",
      "South Boston: $235\n",
      "West Roxbury: $118\n",
      "Bay Village: $224\n",
      "Chinatown: $241\n",
      "Longwood Medical Area: $142\n",
      "Hyde Park: $80\n",
      "South Boston Waterfront: $295\n",
      "Mattapan: $84\n",
      "Leather District: $565\n",
      "Harbor Islands: $200\n"
     ]
    },
    {
     "data": {
      "image/png": "[encoded data removed]",
      "text/plain": [
       "<Figure size 432x288 with 1 Axes>"
      ]
     },
     "metadata": {
      "needs_background": "light"
     },
     "output_type": "display_data"
    }
   ],
   "source": [
    "# Determine most expensive neighborhood on average\n",
    "neighbourhoods = df['neighbourhood_cleansed'].unique()\n",
    "avg_neigh_prices = np.zeros(len(neighbourhoods))\n",
    "\n",
    "for neighbourhood in range(len(neighbourhoods)):\n",
    "    list_of_neigh_price = df.loc[df['neighbourhood_cleansed'] == neighbourhoods[neighbourhood], 'price']\n",
    "    avg_price_single_neigh = np.mean(list_of_neigh_price)\n",
    "    avg_neigh_prices[neighbourhood] = avg_price_single_neigh\n",
    "    \n",
    "print(\"Average prices by neighborhood\\n\")\n",
    "\n",
    "for i in range(len(neighbourhoods)):\n",
    "    print(neighbourhoods[i] + \": ${:0.0f}\".format(avg_neigh_prices[i]))\n",
    "    \n",
    "    \n",
    "inds = neighbourhoods\n",
    "fig, ax = plt.subplots()\n",
    "rects = ax.bar(inds, avg_neigh_prices)\n",
    "ax.set_xlabel(\"Neighbourhood\")\n",
    "ax.set_ylabel('Price')\n",
    "ax.set_title('Price of Airbnb by Neighbourhood')\n",
    "plt.xticks(rotation='vertical')\n",
    "plt.show()"
   ]
  },
  {
   "cell_type": "markdown",
   "metadata": {},
   "source": [
    "Most expensive neighborhood for Airbnb's Boston lisitn is: Leather District."
   ]
  },
  {
   "cell_type": "markdown",
   "metadata": {},
   "source": [
    "### Most Common Neighborhoods"
   ]
  },
  {
   "cell_type": "code",
   "execution_count": 11,
   "metadata": {},
   "outputs": [
    {
     "name": "stdout",
     "output_type": "stream",
     "text": [
      "Dorchester                 5247\n",
      "Jamaica Plain              5078\n",
      "Back Bay                   4830\n",
      "Fenway                     4666\n",
      "South End                  4278\n",
      "Downtown                   3964\n",
      "Allston                    3868\n",
      "Brighton                   3767\n",
      "South Boston               3309\n",
      "Roxbury                    3126\n",
      "East Boston                3011\n",
      "Beacon Hill                2567\n",
      "North End                  2392\n",
      "Mission Hill               2235\n",
      "Charlestown                1711\n",
      "Chinatown                  1664\n",
      "West End                   1421\n",
      "Roslindale                 1163\n",
      "West Roxbury                656\n",
      "South Boston Waterfront     609\n",
      "Hyde Park                   598\n",
      "Mattapan                    597\n",
      "Bay Village                 296\n",
      "Longwood Medical Area       151\n",
      "Leather District             74\n",
      "Harbor Islands                2\n",
      "Name: neighbourhood_cleansed, dtype: int64\n"
     ]
    },
    {
     "data": {
      "image/png": "[encoded data removed]",
      "text/plain": [
       "<Figure size 432x288 with 1 Axes>"
      ]
     },
     "metadata": {
      "needs_background": "light"
     },
     "output_type": "display_data"
    }
   ],
   "source": [
    "# Find the most common neighborhoods.\n",
    "neighbourhoodCounts = df[\"neighbourhood_cleansed\"].value_counts()\n",
    "\n",
    "print(neighbourhoodCounts)\n",
    "\n",
    "# Small workaround here since the indexing was weird in the provided data structure\n",
    "neighbourhoods = np.asarray(neighbourhoodCounts.axes)[0]\n",
    "counts = neighbourhoodCounts.values\n",
    "\n",
    "fig, ax = plt.subplots()\n",
    "rects = ax.bar(neighbourhoods, counts)\n",
    "ax.set_xlabel(\"Neighborhood\")\n",
    "ax.set_ylabel(\"Number of rentals\")\n",
    "ax.set_title(\"Number of Bookings per Neighborhood\")\n",
    "plt.xticks(rotation='vertical')\n",
    "plt.show()"
   ]
  },
  {
   "cell_type": "markdown",
   "metadata": {},
   "source": [
    "The 3 most popular areas to book in Boston are Dorchester, Jamaica Plain, Back Bay."
   ]
  },
  {
   "cell_type": "markdown",
   "metadata": {},
   "source": [
    "## Distribution of Types of Rooms"
   ]
  },
  {
   "cell_type": "code",
   "execution_count": 12,
   "metadata": {},
   "outputs": [
    {
     "data": {
      "text/plain": [
       "(-1.1095682057660095,\n",
       " 1.1168897946611167,\n",
       " -1.1136991416734563,\n",
       " 1.1006523407132986)"
      ]
     },
     "execution_count": 12,
     "metadata": {},
     "output_type": "execute_result"
    },
    {
     "data": {
      "image/png": "[encoded data removed]",
      "text/plain": [
       "<Figure size 432x288 with 1 Axes>"
      ]
     },
     "metadata": {},
     "output_type": "display_data"
    }
   ],
   "source": [
    "num_entire = np.where(df[\"room_type\"] == \"Entire home/apt\")[0].size\n",
    "num_private = np.where(df[\"room_type\"] == \"Private room\")[0].size\n",
    "num_shared = np.where(df[\"room_type\"] == \"Shared room\")[0].size\n",
    "\n",
    "labels = 'Entire home/apt', 'Private room', 'Shared room'\n",
    "sizes = [num_entire, num_private, num_shared]\n",
    "\n",
    "fig, ax = plt.subplots()\n",
    "ax.pie(sizes, labels=labels, autopct='%1.1f%%',\n",
    "        shadow=True, startangle=90)\n",
    "ax.axis('equal')"
   ]
  },
  {
   "cell_type": "markdown",
   "metadata": {},
   "source": [
    "## Distribution of Cancellation Policy"
   ]
  },
  {
   "cell_type": "code",
   "execution_count": 13,
   "metadata": {},
   "outputs": [
    {
     "name": "stdout",
     "output_type": "stream",
     "text": [
      "['super_strict_30' 'strict' 'moderate' 'strict_14_with_grace_period'\n",
      " 'flexible' 'super_strict_60']\n",
      "strict_14_with_grace_period    27749\n",
      "moderate                       15120\n",
      "flexible                       14041\n",
      "strict                          3470\n",
      "super_strict_30                  840\n",
      "super_strict_60                   60\n",
      "Name: cancellation_policy, dtype: int64\n"
     ]
    }
   ],
   "source": [
    "print(df[\"cancellation_policy\"].unique())\n",
    "print(df[\"cancellation_policy\"].value_counts())"
   ]
  },
  {
   "cell_type": "code",
   "execution_count": 14,
   "metadata": {},
   "outputs": [
    {
     "data": {
      "text/plain": [
       "(-1.1300611591122807,\n",
       " 1.128170758164281,\n",
       " -1.1298015868433566,\n",
       " 1.101419123183017)"
      ]
     },
     "execution_count": 14,
     "metadata": {},
     "output_type": "execute_result"
    },
    {
     "data": {
      "image/png": "[encoded data removed]",
      "text/plain": [
       "<Figure size 432x288 with 1 Axes>"
      ]
     },
     "metadata": {},
     "output_type": "display_data"
    }
   ],
   "source": [
    "num_strict = np.where(df[\"cancellation_policy\"] == \"strict\")[0].size\n",
    "num_moderate = np.where(df[\"cancellation_policy\"] == \"moderate\")[0].size\n",
    "num_flexible = np.where(df[\"cancellation_policy\"] == \"flexible\")[0].size\n",
    "\n",
    "labels = 'strict', 'moderate', 'flexible'\n",
    "sizes = [num_strict, num_moderate, num_flexible]\n",
    "\n",
    "# color scheme from https://medium.com/@kvnamipara/a-better-visualisation-of-pie-charts-by-matplotlib-935b7667d77f\n",
    "colors = ['#ff9999','#66b3ff','#99ff99','#ffcc99']\n",
    "\n",
    "fig, ax = plt.subplots()\n",
    "ax.pie(sizes, labels=labels, autopct='%1.1f%%', colors=colors,\n",
    "        shadow=True, startangle=90)\n",
    "ax.axis('equal')"
   ]
  },
  {
   "cell_type": "markdown",
   "metadata": {},
   "source": [
    "## Scatterplot of Price vs Number of Reviews"
   ]
  },
  {
   "cell_type": "code",
   "execution_count": 15,
   "metadata": {},
   "outputs": [
    {
     "data": {
      "text/plain": [
       "<matplotlib.axes._subplots.AxesSubplot at 0x237022d5710>"
      ]
     },
     "execution_count": 15,
     "metadata": {},
     "output_type": "execute_result"
    },
    {
     "data": {
      "image/png": "[encoded data removed]",
      "text/plain": [
       "<Figure size 1296x576 with 1 Axes>"
      ]
     },
     "metadata": {
      "needs_background": "light"
     },
     "output_type": "display_data"
    }
   ],
   "source": [
    "df.plot(x=\"price\", y=\"number_of_reviews\", style=\"o\", figsize=(18,8), legend=False, title=\"Price vs Number of Reviews\")"
   ]
  },
  {
   "cell_type": "markdown",
   "metadata": {},
   "source": [
    "The Airbnb is more popular for price range $0 to $400. Listing with $0 price listing could be outliers"
   ]
  },
  {
   "cell_type": "markdown",
   "metadata": {},
   "source": [
    "### Data Cleaning (Removing Unnecessary Features)"
   ]
  },
  {
   "cell_type": "code",
   "execution_count": 16,
   "metadata": {},
   "outputs": [],
   "source": [
    "# Drop features that I believe to be irrelevant\n",
    "\n",
    "df = df.drop(columns=['Unnamed: 0', 'access', 'availability_30', 'availability_365', 'availability_60', \n",
    "'availability_90','calculated_host_listings_count', 'calculated_host_listings_count_entire_homes', \n",
    "'calculated_host_listings_count_private_rooms', 'calculated_host_listings_count_shared_rooms', \n",
    "'calendar_last_scraped', 'calendar_updated', 'city','country', 'country_code',  'experiences_offered', \n",
    "'first_review', 'has_availability', 'host_about', 'host_acceptance_rate', 'host_has_profile_pic', 'host_id',\n",
    "'host_identity_verified', 'host_is_superhost', 'host_listings_count', 'host_location', 'host_name', \n",
    "'host_neighbourhood', 'host_picture_url', 'host_response_rate', 'host_response_time', 'host_since', \n",
    "'host_thumbnail_url', 'host_total_listings_count', 'host_url', 'host_verifications', 'house_rules', 'id', \n",
    "'instant_bookable', 'interaction', 'is_location_exact', 'jurisdiction_names', 'last_review', 'last_scraped',\n",
    "'latitude', 'license', 'listing_url', 'longitude', 'market', 'maximum_maximum_nights', 'maximum_minimum_nights', \n",
    "'maximum_nights', 'maximum_nights_avg_ntm', 'medium_url', 'minimum_maximum_nights', 'minimum_minimum_nights',\n",
    "'minimum_nights_avg_ntm', 'monthly_price', 'neighbourhood', 'neighbourhood_group_cleansed', 'notes', \n",
    "'number_of_reviews_ltm', 'picture_url','property_type', 'require_guest_phone_verification', \n",
    "'require_guest_profile_picture', 'requires_license', 'review_scores_accuracy', 'review_scores_checkin',\n",
    "'review_scores_cleanliness', 'review_scores_communication', 'review_scores_location','review_scores_value',\n",
    "                      \n",
    "'reviews_per_month','scrape_id','smart_location',  'square_feet', 'state', 'street', 'thumbnail_url', \n",
    "'transit', 'weekly_price', 'xl_picture_url', 'zipcode'])\n",
    "\n",
    "\n",
    "# Convert categorical data to numerical data using one-hot encoding\n",
    "df = pd.get_dummies(df, columns=[\"bed_type\"])\n",
    "df = pd.get_dummies(df, columns=[\"room_type\"])\n",
    "df = pd.get_dummies(df, columns=[\"neighbourhood_cleansed\"])\n",
    "df = pd.get_dummies(df, columns=[\"is_business_travel_ready\"])\n",
    "df = pd.get_dummies(df, columns=[\"cancellation_policy\"])"
   ]
  },
  {
   "cell_type": "markdown",
   "metadata": {},
   "source": [
    "We have gone from starting with 96 features to 23 features. The features that I will be using are:\n",
    "- name\n",
    "- summary\n",
    "- space\n",
    "- description\n",
    "- neighborhood_overview\n",
    "- amenities\n",
    "\n",
    "- neighbourhood_cleansed\n",
    "- room_type\n",
    "- bed_type\n",
    "- is_business_travel_ready\n",
    "- cancellation_policy\n",
    "\n",
    "- accommodates\n",
    "- bathrooms\n",
    "- bedrooms\n",
    "- beds\n",
    "- price\n",
    "- security_deposit\n",
    "- cleaning_fee\n",
    "- guests_included\n",
    "- extra_people\n",
    "- minimum_nights\n",
    "- number_of_reviews\n",
    "- review_scores_rating"
   ]
  },
  {
   "cell_type": "markdown",
   "metadata": {},
   "source": [
    "### Normalize Numerical Data"
   ]
  },
  {
   "cell_type": "code",
   "execution_count": 17,
   "metadata": {},
   "outputs": [
    {
     "name": "stderr",
     "output_type": "stream",
     "text": [
      "C:\\ProgramData\\Anaconda3\\lib\\site-packages\\ipykernel_launcher.py:4: FutureWarning: Method .as_matrix will be removed in a future version. Use .values instead.\n",
      "  after removing the cwd from sys.path.\n"
     ]
    }
   ],
   "source": [
    "df_numeric = df[[\"accommodates\", \"bathrooms\", \"bedrooms\", \"beds\", \"price\", \"security_deposit\", \"cleaning_fee\", \"guests_included\", \"extra_people\", \"minimum_nights\", \"number_of_reviews\", \"review_scores_rating\"]]\n",
    "\n",
    "# Convert to a matrix in order to use sklearn's normalize\n",
    "df_numeric_matrix = df_numeric.as_matrix()\n",
    "\n",
    "# Normalize with sklearn's normalize\n",
    "matrix_numeric_normalized = normalize(X=df_numeric_matrix, norm='l2')\n",
    "\n",
    "# Convert back to a Pandas Dataframe\n",
    "df_numeric_normalized = pd.DataFrame(matrix_numeric_normalized)\n",
    "\n",
    "# Replace the non-normalized numerical features with normalized features\n",
    "df[[\"accommodates\", \"bathrooms\", \"bedrooms\", \"beds\", \"price\", \"security_deposit\", \"cleaning_fee\",\n",
    "    \"guests_included\", \"extra_people\", \"minimum_nights\", \"number_of_reviews\",\n",
    "    \"review_scores_rating\"]] = df_numeric_normalized"
   ]
  },
  {
   "cell_type": "code",
   "execution_count": 18,
   "metadata": {},
   "outputs": [],
   "source": [
    "# Split dataset into 60-training set 20-validation set and 20-test set approximately\n",
    "# Let's try to do regression without the bag of words / summary features first\n",
    "dfY = df[\"price\"]\n",
    "dfX = df.drop([\"price\", \"name\", \"summary\", \"space\", \"description\", \"neighborhood_overview\", \"amenities\"], axis=1)\n",
    "X_train, X_test, y_train, y_test = train_test_split(dfX, dfY, test_size=0.2, random_state=1)\n",
    "X_train, X_val, y_train, y_val = train_test_split(X_train, y_train, test_size = 0.2, random_state=1)"
   ]
  },
  {
   "cell_type": "markdown",
   "metadata": {},
   "source": [
    "### Least Squares Linear Regression"
   ]
  },
  {
   "cell_type": "code",
   "execution_count": 19,
   "metadata": {},
   "outputs": [],
   "source": [
    "# Let's try to do regression without the bag of words / summary features first\n",
    "\n",
    "# Least squares regression\n",
    "linear_model = LinearRegression()\n",
    "linear_model.fit(X_train, y_train)\n",
    "\n",
    "linear_y_pred = linear_model.predict(X_val)\n",
    "linear_val_err = np.sum((linear_y_pred - y_val)**2)\n"
   ]
  },
  {
   "cell_type": "code",
   "execution_count": 132,
   "metadata": {},
   "outputs": [
    {
     "name": "stdout",
     "output_type": "stream",
     "text": [
      "109.6809560195898\n",
      "0.787345846578595\n"
     ]
    }
   ],
   "source": [
    "print(linear_val_err)\n",
    "print(linear_model.score(X_test,y_test))"
   ]
  },
  {
   "cell_type": "markdown",
   "metadata": {},
   "source": [
    "Validation error for linear regression is 109.68 accuracy is 78%"
   ]
  },
  {
   "cell_type": "markdown",
   "metadata": {},
   "source": [
    "### Least Squares Linear Regression with L2 Regularization (Ridge Regression)"
   ]
  },
  {
   "cell_type": "code",
   "execution_count": 21,
   "metadata": {},
   "outputs": [],
   "source": [
    "ridge_avg_val_err = 0\n",
    "\n",
    "for i in np.arange(1,11):\n",
    "    ridge_model = Ridge(alpha=i)\n",
    "    ridge_model.fit(X_train, y_train)\n",
    "    \n",
    "    ridge_y_pred = ridge_model.predict(X_val)\n",
    "    ridge_val_err = np.sum((ridge_y_pred - y_val)**2)\n",
    "    ridge_avg_val_err += ridge_val_err\n",
    "    \n",
    "ridge_avg_val_err = ridge_avg_val_err / len(np.arange(1,11))"
   ]
  },
  {
   "cell_type": "code",
   "execution_count": 131,
   "metadata": {},
   "outputs": [
    {
     "name": "stdout",
     "output_type": "stream",
     "text": [
      "112.83069431518126\n",
      "0.7808210944314713\n"
     ]
    }
   ],
   "source": [
    "print(ridge_avg_val_err)\n",
    "print(ridge_model.score(X_test,y_test))"
   ]
  },
  {
   "cell_type": "markdown",
   "metadata": {},
   "source": [
    "Validation error using different regularization strengths is 112.83"
   ]
  },
  {
   "cell_type": "markdown",
   "metadata": {},
   "source": [
    "### Multi-Layer Perceptron Regression"
   ]
  },
  {
   "cell_type": "code",
   "execution_count": 26,
   "metadata": {},
   "outputs": [],
   "source": [
    "mlp_avg_val_err = 0\n",
    "\n",
    "for i in np.arange(1,11):\n",
    "    mlp_model = MLPRegressor(hidden_layer_sizes=(24, 12), activation='relu', learning_rate='adaptive')\n",
    "    mlp_model.fit(X_train, y_train)\n",
    "\n",
    "    mlp_y_pred = mlp_model.predict(X_val)\n",
    "    mlp_val_err = np.sum((mlp_y_pred - y_val)**2)\n",
    "    mlp_avg_val_err += mlp_val_err\n",
    "\n",
    "mlp_avg_val_err /= len(np.arange(1,11))"
   ]
  },
  {
   "cell_type": "code",
   "execution_count": 130,
   "metadata": {},
   "outputs": [
    {
     "name": "stdout",
     "output_type": "stream",
     "text": [
      "11.153755024978311\n",
      "0.9765554488892796\n"
     ]
    }
   ],
   "source": [
    "print(mlp_avg_val_err)\n",
    "print(mlp_model.score(X_test,y_test))"
   ]
  },
  {
   "cell_type": "markdown",
   "metadata": {},
   "source": [
    "Validation error using two hidden layer of sizes 24 and 12 is 12.30. The accuracy is 97.65%"
   ]
  },
  {
   "cell_type": "markdown",
   "metadata": {},
   "source": [
    "### Random Forest Regression"
   ]
  },
  {
   "cell_type": "code",
   "execution_count": 28,
   "metadata": {},
   "outputs": [],
   "source": [
    "rf_avg_val_err = 0\n",
    "\n",
    "for i in range(1,11):\n",
    "    rf_model = RandomForestRegressor(n_estimators=15, criterion='mse', bootstrap=True)\n",
    "    rf_model.fit(X_train, y_train)\n",
    "    \n",
    "    rf_y_pred = rf_model.predict(X_val)\n",
    "    rf_val_err = np.sum((rf_y_pred - y_val)**2)\n",
    "    rf_avg_val_err += rf_val_err\n",
    "    \n",
    "rf_avg_val_err /= len(np.arange(1,11))"
   ]
  },
  {
   "cell_type": "code",
   "execution_count": 129,
   "metadata": {},
   "outputs": [
    {
     "name": "stdout",
     "output_type": "stream",
     "text": [
      "2.023915805900082\n",
      "0.9957167758387675\n"
     ]
    }
   ],
   "source": [
    "print(rf_avg_val_err)\n",
    "print(rf_model.score(X_test,y_test))"
   ]
  },
  {
   "cell_type": "markdown",
   "metadata": {},
   "source": [
    "Validation error using random forest regression with 15 trees is 2.04 The accuracy is 99.57%\n"
   ]
  },
  {
   "cell_type": "markdown",
   "metadata": {},
   "source": [
    "# KNN Regression"
   ]
  },
  {
   "cell_type": "code",
   "execution_count": 140,
   "metadata": {},
   "outputs": [],
   "source": [
    "neigh_avg_val_err = 0\n",
    "neigh = KNeighborsRegressor(n_neighbors=20)\n",
    "neigh.fit(X_train, y_train) \n",
    "#kneighbors_graph([X_train, 20, 'distance'])\n",
    "neigh_y_pred = rf_model.predict(X_val)\n",
    "neigh_val_err = np.sum((neigh_y_pred - y_val)**2)\n",
    "neigh_avg_val_err += rf_val_err\n",
    "    \n",
    "neigh_avg_val_err /= len(np.arange(1,11))"
   ]
  },
  {
   "cell_type": "code",
   "execution_count": 141,
   "metadata": {},
   "outputs": [
    {
     "name": "stdout",
     "output_type": "stream",
     "text": [
      "0.20622722418322245\n",
      "0.9104355253933691\n"
     ]
    }
   ],
   "source": [
    "print(neigh_avg_val_err)\n",
    "print(neigh.score(X_test, y_test))"
   ]
  },
  {
   "cell_type": "markdown",
   "metadata": {},
   "source": [
    "Overall, the best model found was using the KNN Regression resulting in a validation error of 0.206 averaged over all models. "
   ]
  },
  {
   "cell_type": "markdown",
   "metadata": {},
   "source": [
    "### Feature Selection"
   ]
  },
  {
   "cell_type": "markdown",
   "metadata": {},
   "source": [
    "Selecting top 5 features that help predict listing price."
   ]
  },
  {
   "cell_type": "code",
   "execution_count": 142,
   "metadata": {},
   "outputs": [
    {
     "name": "stdout",
     "output_type": "stream",
     "text": [
      "[False False False False  True False False False  True  True  True False\n",
      " False False False False  True False False False False False False False\n",
      " False False False False False False False False False False False False\n",
      " False False False False False False False False False False False False\n",
      " False False False False]\n"
     ]
    }
   ],
   "source": [
    "# We will use recursive feature elimination for feature selection with the \"last\" Random Forest model\n",
    "selector = RFE(estimator=rf_model, n_features_to_select=5, step=2)\n",
    "selector = selector.fit(X_train, y_train)\n",
    "print(selector.support_)"
   ]
  },
  {
   "cell_type": "code",
   "execution_count": 147,
   "metadata": {},
   "outputs": [
    {
     "data": {
      "text/html": [
       "<div>\n",
       "<style scoped>\n",
       "    .dataframe tbody tr th:only-of-type {\n",
       "        vertical-align: middle;\n",
       "    }\n",
       "\n",
       "    .dataframe tbody tr th {\n",
       "        vertical-align: top;\n",
       "    }\n",
       "\n",
       "    .dataframe thead th {\n",
       "        text-align: right;\n",
       "    }\n",
       "</style>\n",
       "<table border=\"1\" class=\"dataframe\">\n",
       "  <thead>\n",
       "    <tr style=\"text-align: right;\">\n",
       "      <th></th>\n",
       "      <th>0</th>\n",
       "      <th>1</th>\n",
       "      <th>2</th>\n",
       "      <th>3</th>\n",
       "      <th>4</th>\n",
       "    </tr>\n",
       "  </thead>\n",
       "  <tbody>\n",
       "    <tr>\n",
       "      <th>accommodates</th>\n",
       "      <td>0.0111919</td>\n",
       "      <td>0.0107324</td>\n",
       "      <td>0.0135471</td>\n",
       "      <td>0.0149208</td>\n",
       "      <td>0.00196004</td>\n",
       "    </tr>\n",
       "    <tr>\n",
       "      <th>amenities</th>\n",
       "      <td>{TV,\"Cable TV\",Wifi,\"Air conditioning\",Kitchen...</td>\n",
       "      <td>{TV,\"Cable TV\",Internet,Wifi,\"Air conditioning...</td>\n",
       "      <td>{TV,\"Cable TV\",Internet,Wifi,\"Air conditioning...</td>\n",
       "      <td>{TV,\"Cable TV\",Wifi,\"Air conditioning\",Kitchen...</td>\n",
       "      <td>{TV,\"Cable TV\",Internet,Wifi,\"Air conditioning...</td>\n",
       "    </tr>\n",
       "    <tr>\n",
       "      <th>bathrooms</th>\n",
       "      <td>0.00559594</td>\n",
       "      <td>0.00536619</td>\n",
       "      <td>0.00338678</td>\n",
       "      <td>0.0074604</td>\n",
       "      <td>0.000980018</td>\n",
       "    </tr>\n",
       "    <tr>\n",
       "      <th>bedrooms</th>\n",
       "      <td>0.00559594</td>\n",
       "      <td>0.00536619</td>\n",
       "      <td>0.00338678</td>\n",
       "      <td>0.0074604</td>\n",
       "      <td>0.000980018</td>\n",
       "    </tr>\n",
       "    <tr>\n",
       "      <th>beds</th>\n",
       "      <td>0.00559594</td>\n",
       "      <td>0.00536619</td>\n",
       "      <td>0.00677356</td>\n",
       "      <td>0.0074604</td>\n",
       "      <td>0.000980018</td>\n",
       "    </tr>\n",
       "    <tr>\n",
       "      <th>cleaning_fee</th>\n",
       "      <td>0.419696</td>\n",
       "      <td>0.214648</td>\n",
       "      <td>0.237075</td>\n",
       "      <td>0</td>\n",
       "      <td>0.147003</td>\n",
       "    </tr>\n",
       "    <tr>\n",
       "      <th>description</th>\n",
       "      <td>Fully separate apartment in a two apartment bu...</td>\n",
       "      <td>This is a private guest room with private bath...</td>\n",
       "      <td>** WELCOME *** FULL PRIVATE APARTMENT In a His...</td>\n",
       "      <td>Come stay with me in Boston's Roslindale neigh...</td>\n",
       "      <td>Bright, 1 bed with curved glass windows facing...</td>\n",
       "    </tr>\n",
       "    <tr>\n",
       "      <th>extra_people</th>\n",
       "      <td>0</td>\n",
       "      <td>0</td>\n",
       "      <td>0.0270942</td>\n",
       "      <td>0.149208</td>\n",
       "      <td>0</td>\n",
       "    </tr>\n",
       "    <tr>\n",
       "      <th>guests_included</th>\n",
       "      <td>0.0111919</td>\n",
       "      <td>0.00536619</td>\n",
       "      <td>0.00677356</td>\n",
       "      <td>0.0074604</td>\n",
       "      <td>0.000980018</td>\n",
       "    </tr>\n",
       "    <tr>\n",
       "      <th>minimum_nights</th>\n",
       "      <td>0.167878</td>\n",
       "      <td>0.0160986</td>\n",
       "      <td>0.0101603</td>\n",
       "      <td>0.0223812</td>\n",
       "      <td>0.0137203</td>\n",
       "    </tr>\n",
       "    <tr>\n",
       "      <th>name</th>\n",
       "      <td>HARBORSIDE-Walk to subway</td>\n",
       "      <td>**$99 Special **   Private! Minutes to center!</td>\n",
       "      <td>$125 Special!! Home Away! Condo</td>\n",
       "      <td>Folk Art Spirit in a Leafy, Quiet Neighborhood</td>\n",
       "      <td>Curved Glass Studio/1bd facing Park</td>\n",
       "    </tr>\n",
       "    <tr>\n",
       "      <th>neighborhood_overview</th>\n",
       "      <td>Mostly quiet ( no loud music, no crowed sidewa...</td>\n",
       "      <td>Peacful, Architecturally interesting, historic...</td>\n",
       "      <td>Peaceful, Architecturally interesting, histori...</td>\n",
       "      <td>The LOCATION: Roslindale is a safe and diverse...</td>\n",
       "      <td>Beacon Hill is a historic neighborhood filled ...</td>\n",
       "    </tr>\n",
       "    <tr>\n",
       "      <th>number_of_reviews</th>\n",
       "      <td>0.0727473</td>\n",
       "      <td>0.305873</td>\n",
       "      <td>0.223528</td>\n",
       "      <td>0.455085</td>\n",
       "      <td>0.0147003</td>\n",
       "    </tr>\n",
       "    <tr>\n",
       "      <th>price</th>\n",
       "      <td>0.699493</td>\n",
       "      <td>0.778098</td>\n",
       "      <td>0.572366</td>\n",
       "      <td>0.484926</td>\n",
       "      <td>0.0970218</td>\n",
       "    </tr>\n",
       "    <tr>\n",
       "      <th>review_scores_rating</th>\n",
       "      <td>0.548402</td>\n",
       "      <td>0.504422</td>\n",
       "      <td>0.325131</td>\n",
       "      <td>0.731119</td>\n",
       "      <td>0.0901617</td>\n",
       "    </tr>\n",
       "    <tr>\n",
       "      <th>security_deposit</th>\n",
       "      <td>0</td>\n",
       "      <td>0</td>\n",
       "      <td>0.677778</td>\n",
       "      <td>0</td>\n",
       "      <td>0.980018</td>\n",
       "    </tr>\n",
       "    <tr>\n",
       "      <th>space</th>\n",
       "      <td>This is a totally separate apartment located o...</td>\n",
       "      <td>**THE BEST Value in BOSTON!!*** PRIVATE GUEST ...</td>\n",
       "      <td>** WELCOME *** FULL PRIVATE APARTMENT In a His...</td>\n",
       "      <td>This is a well-maintained, two-family house bu...</td>\n",
       "      <td>Fully Furnished studio with enclosed bedroom. ...</td>\n",
       "    </tr>\n",
       "    <tr>\n",
       "      <th>summary</th>\n",
       "      <td>Fully separate apartment in a two apartment bu...</td>\n",
       "      <td>This is a private guest room with private bath...</td>\n",
       "      <td>NaN</td>\n",
       "      <td>Come stay with me in Boston's Roslindale neigh...</td>\n",
       "      <td>Bright, 1 bed with curved glass windows facing...</td>\n",
       "    </tr>\n",
       "    <tr>\n",
       "      <th>bed_type_Airbed</th>\n",
       "      <td>0</td>\n",
       "      <td>0</td>\n",
       "      <td>0</td>\n",
       "      <td>0</td>\n",
       "      <td>0</td>\n",
       "    </tr>\n",
       "    <tr>\n",
       "      <th>bed_type_Couch</th>\n",
       "      <td>0</td>\n",
       "      <td>0</td>\n",
       "      <td>0</td>\n",
       "      <td>0</td>\n",
       "      <td>0</td>\n",
       "    </tr>\n",
       "    <tr>\n",
       "      <th>bed_type_Futon</th>\n",
       "      <td>0</td>\n",
       "      <td>0</td>\n",
       "      <td>0</td>\n",
       "      <td>0</td>\n",
       "      <td>0</td>\n",
       "    </tr>\n",
       "    <tr>\n",
       "      <th>bed_type_Pull-out Sofa</th>\n",
       "      <td>0</td>\n",
       "      <td>0</td>\n",
       "      <td>0</td>\n",
       "      <td>0</td>\n",
       "      <td>0</td>\n",
       "    </tr>\n",
       "    <tr>\n",
       "      <th>bed_type_Real Bed</th>\n",
       "      <td>1</td>\n",
       "      <td>1</td>\n",
       "      <td>1</td>\n",
       "      <td>1</td>\n",
       "      <td>1</td>\n",
       "    </tr>\n",
       "    <tr>\n",
       "      <th>room_type_Entire home/apt</th>\n",
       "      <td>1</td>\n",
       "      <td>1</td>\n",
       "      <td>1</td>\n",
       "      <td>0</td>\n",
       "      <td>1</td>\n",
       "    </tr>\n",
       "    <tr>\n",
       "      <th>room_type_Private room</th>\n",
       "      <td>0</td>\n",
       "      <td>0</td>\n",
       "      <td>0</td>\n",
       "      <td>1</td>\n",
       "      <td>0</td>\n",
       "    </tr>\n",
       "    <tr>\n",
       "      <th>room_type_Shared room</th>\n",
       "      <td>0</td>\n",
       "      <td>0</td>\n",
       "      <td>0</td>\n",
       "      <td>0</td>\n",
       "      <td>0</td>\n",
       "    </tr>\n",
       "    <tr>\n",
       "      <th>neighbourhood_cleansed_Allston</th>\n",
       "      <td>0</td>\n",
       "      <td>0</td>\n",
       "      <td>0</td>\n",
       "      <td>0</td>\n",
       "      <td>0</td>\n",
       "    </tr>\n",
       "    <tr>\n",
       "      <th>neighbourhood_cleansed_Back Bay</th>\n",
       "      <td>0</td>\n",
       "      <td>0</td>\n",
       "      <td>0</td>\n",
       "      <td>0</td>\n",
       "      <td>0</td>\n",
       "    </tr>\n",
       "    <tr>\n",
       "      <th>neighbourhood_cleansed_Bay Village</th>\n",
       "      <td>0</td>\n",
       "      <td>0</td>\n",
       "      <td>0</td>\n",
       "      <td>0</td>\n",
       "      <td>0</td>\n",
       "    </tr>\n",
       "    <tr>\n",
       "      <th>neighbourhood_cleansed_Beacon Hill</th>\n",
       "      <td>0</td>\n",
       "      <td>0</td>\n",
       "      <td>0</td>\n",
       "      <td>0</td>\n",
       "      <td>0</td>\n",
       "    </tr>\n",
       "    <tr>\n",
       "      <th>neighbourhood_cleansed_Brighton</th>\n",
       "      <td>0</td>\n",
       "      <td>0</td>\n",
       "      <td>0</td>\n",
       "      <td>0</td>\n",
       "      <td>0</td>\n",
       "    </tr>\n",
       "    <tr>\n",
       "      <th>neighbourhood_cleansed_Charlestown</th>\n",
       "      <td>0</td>\n",
       "      <td>0</td>\n",
       "      <td>0</td>\n",
       "      <td>0</td>\n",
       "      <td>0</td>\n",
       "    </tr>\n",
       "    <tr>\n",
       "      <th>neighbourhood_cleansed_Chinatown</th>\n",
       "      <td>0</td>\n",
       "      <td>0</td>\n",
       "      <td>0</td>\n",
       "      <td>0</td>\n",
       "      <td>0</td>\n",
       "    </tr>\n",
       "    <tr>\n",
       "      <th>neighbourhood_cleansed_Dorchester</th>\n",
       "      <td>0</td>\n",
       "      <td>0</td>\n",
       "      <td>0</td>\n",
       "      <td>0</td>\n",
       "      <td>0</td>\n",
       "    </tr>\n",
       "    <tr>\n",
       "      <th>neighbourhood_cleansed_Downtown</th>\n",
       "      <td>0</td>\n",
       "      <td>0</td>\n",
       "      <td>0</td>\n",
       "      <td>0</td>\n",
       "      <td>1</td>\n",
       "    </tr>\n",
       "    <tr>\n",
       "      <th>neighbourhood_cleansed_East Boston</th>\n",
       "      <td>1</td>\n",
       "      <td>0</td>\n",
       "      <td>0</td>\n",
       "      <td>0</td>\n",
       "      <td>0</td>\n",
       "    </tr>\n",
       "    <tr>\n",
       "      <th>neighbourhood_cleansed_Fenway</th>\n",
       "      <td>0</td>\n",
       "      <td>0</td>\n",
       "      <td>0</td>\n",
       "      <td>0</td>\n",
       "      <td>0</td>\n",
       "    </tr>\n",
       "    <tr>\n",
       "      <th>neighbourhood_cleansed_Harbor Islands</th>\n",
       "      <td>0</td>\n",
       "      <td>0</td>\n",
       "      <td>0</td>\n",
       "      <td>0</td>\n",
       "      <td>0</td>\n",
       "    </tr>\n",
       "    <tr>\n",
       "      <th>neighbourhood_cleansed_Hyde Park</th>\n",
       "      <td>0</td>\n",
       "      <td>0</td>\n",
       "      <td>0</td>\n",
       "      <td>0</td>\n",
       "      <td>0</td>\n",
       "    </tr>\n",
       "    <tr>\n",
       "      <th>neighbourhood_cleansed_Jamaica Plain</th>\n",
       "      <td>0</td>\n",
       "      <td>0</td>\n",
       "      <td>0</td>\n",
       "      <td>0</td>\n",
       "      <td>0</td>\n",
       "    </tr>\n",
       "    <tr>\n",
       "      <th>neighbourhood_cleansed_Leather District</th>\n",
       "      <td>0</td>\n",
       "      <td>0</td>\n",
       "      <td>0</td>\n",
       "      <td>0</td>\n",
       "      <td>0</td>\n",
       "    </tr>\n",
       "    <tr>\n",
       "      <th>neighbourhood_cleansed_Longwood Medical Area</th>\n",
       "      <td>0</td>\n",
       "      <td>0</td>\n",
       "      <td>0</td>\n",
       "      <td>0</td>\n",
       "      <td>0</td>\n",
       "    </tr>\n",
       "    <tr>\n",
       "      <th>neighbourhood_cleansed_Mattapan</th>\n",
       "      <td>0</td>\n",
       "      <td>0</td>\n",
       "      <td>0</td>\n",
       "      <td>0</td>\n",
       "      <td>0</td>\n",
       "    </tr>\n",
       "    <tr>\n",
       "      <th>neighbourhood_cleansed_Mission Hill</th>\n",
       "      <td>0</td>\n",
       "      <td>0</td>\n",
       "      <td>0</td>\n",
       "      <td>0</td>\n",
       "      <td>0</td>\n",
       "    </tr>\n",
       "    <tr>\n",
       "      <th>neighbourhood_cleansed_North End</th>\n",
       "      <td>0</td>\n",
       "      <td>0</td>\n",
       "      <td>0</td>\n",
       "      <td>0</td>\n",
       "      <td>0</td>\n",
       "    </tr>\n",
       "    <tr>\n",
       "      <th>neighbourhood_cleansed_Roslindale</th>\n",
       "      <td>0</td>\n",
       "      <td>0</td>\n",
       "      <td>0</td>\n",
       "      <td>1</td>\n",
       "      <td>0</td>\n",
       "    </tr>\n",
       "    <tr>\n",
       "      <th>neighbourhood_cleansed_Roxbury</th>\n",
       "      <td>0</td>\n",
       "      <td>1</td>\n",
       "      <td>1</td>\n",
       "      <td>0</td>\n",
       "      <td>0</td>\n",
       "    </tr>\n",
       "    <tr>\n",
       "      <th>neighbourhood_cleansed_South Boston</th>\n",
       "      <td>0</td>\n",
       "      <td>0</td>\n",
       "      <td>0</td>\n",
       "      <td>0</td>\n",
       "      <td>0</td>\n",
       "    </tr>\n",
       "    <tr>\n",
       "      <th>neighbourhood_cleansed_South Boston Waterfront</th>\n",
       "      <td>0</td>\n",
       "      <td>0</td>\n",
       "      <td>0</td>\n",
       "      <td>0</td>\n",
       "      <td>0</td>\n",
       "    </tr>\n",
       "    <tr>\n",
       "      <th>neighbourhood_cleansed_South End</th>\n",
       "      <td>0</td>\n",
       "      <td>0</td>\n",
       "      <td>0</td>\n",
       "      <td>0</td>\n",
       "      <td>0</td>\n",
       "    </tr>\n",
       "    <tr>\n",
       "      <th>neighbourhood_cleansed_West End</th>\n",
       "      <td>0</td>\n",
       "      <td>0</td>\n",
       "      <td>0</td>\n",
       "      <td>0</td>\n",
       "      <td>0</td>\n",
       "    </tr>\n",
       "    <tr>\n",
       "      <th>neighbourhood_cleansed_West Roxbury</th>\n",
       "      <td>0</td>\n",
       "      <td>0</td>\n",
       "      <td>0</td>\n",
       "      <td>0</td>\n",
       "      <td>0</td>\n",
       "    </tr>\n",
       "    <tr>\n",
       "      <th>is_business_travel_ready_f</th>\n",
       "      <td>1</td>\n",
       "      <td>1</td>\n",
       "      <td>1</td>\n",
       "      <td>1</td>\n",
       "      <td>1</td>\n",
       "    </tr>\n",
       "    <tr>\n",
       "      <th>cancellation_policy_flexible</th>\n",
       "      <td>0</td>\n",
       "      <td>0</td>\n",
       "      <td>0</td>\n",
       "      <td>0</td>\n",
       "      <td>0</td>\n",
       "    </tr>\n",
       "    <tr>\n",
       "      <th>cancellation_policy_moderate</th>\n",
       "      <td>0</td>\n",
       "      <td>0</td>\n",
       "      <td>0</td>\n",
       "      <td>1</td>\n",
       "      <td>0</td>\n",
       "    </tr>\n",
       "    <tr>\n",
       "      <th>cancellation_policy_strict</th>\n",
       "      <td>0</td>\n",
       "      <td>1</td>\n",
       "      <td>1</td>\n",
       "      <td>0</td>\n",
       "      <td>1</td>\n",
       "    </tr>\n",
       "    <tr>\n",
       "      <th>cancellation_policy_strict_14_with_grace_period</th>\n",
       "      <td>0</td>\n",
       "      <td>0</td>\n",
       "      <td>0</td>\n",
       "      <td>0</td>\n",
       "      <td>0</td>\n",
       "    </tr>\n",
       "    <tr>\n",
       "      <th>cancellation_policy_super_strict_30</th>\n",
       "      <td>1</td>\n",
       "      <td>0</td>\n",
       "      <td>0</td>\n",
       "      <td>0</td>\n",
       "      <td>0</td>\n",
       "    </tr>\n",
       "    <tr>\n",
       "      <th>cancellation_policy_super_strict_60</th>\n",
       "      <td>0</td>\n",
       "      <td>0</td>\n",
       "      <td>0</td>\n",
       "      <td>0</td>\n",
       "      <td>0</td>\n",
       "    </tr>\n",
       "  </tbody>\n",
       "</table>\n",
       "</div>"
      ],
      "text/plain": [
       "                                                                                                 0  \\\n",
       "accommodates                                                                             0.0111919   \n",
       "amenities                                        {TV,\"Cable TV\",Wifi,\"Air conditioning\",Kitchen...   \n",
       "bathrooms                                                                               0.00559594   \n",
       "bedrooms                                                                                0.00559594   \n",
       "beds                                                                                    0.00559594   \n",
       "cleaning_fee                                                                              0.419696   \n",
       "description                                      Fully separate apartment in a two apartment bu...   \n",
       "extra_people                                                                                     0   \n",
       "guests_included                                                                          0.0111919   \n",
       "minimum_nights                                                                            0.167878   \n",
       "name                                                                     HARBORSIDE-Walk to subway   \n",
       "neighborhood_overview                            Mostly quiet ( no loud music, no crowed sidewa...   \n",
       "number_of_reviews                                                                        0.0727473   \n",
       "price                                                                                     0.699493   \n",
       "review_scores_rating                                                                      0.548402   \n",
       "security_deposit                                                                                 0   \n",
       "space                                            This is a totally separate apartment located o...   \n",
       "summary                                          Fully separate apartment in a two apartment bu...   \n",
       "bed_type_Airbed                                                                                  0   \n",
       "bed_type_Couch                                                                                   0   \n",
       "bed_type_Futon                                                                                   0   \n",
       "bed_type_Pull-out Sofa                                                                           0   \n",
       "bed_type_Real Bed                                                                                1   \n",
       "room_type_Entire home/apt                                                                        1   \n",
       "room_type_Private room                                                                           0   \n",
       "room_type_Shared room                                                                            0   \n",
       "neighbourhood_cleansed_Allston                                                                   0   \n",
       "neighbourhood_cleansed_Back Bay                                                                  0   \n",
       "neighbourhood_cleansed_Bay Village                                                               0   \n",
       "neighbourhood_cleansed_Beacon Hill                                                               0   \n",
       "neighbourhood_cleansed_Brighton                                                                  0   \n",
       "neighbourhood_cleansed_Charlestown                                                               0   \n",
       "neighbourhood_cleansed_Chinatown                                                                 0   \n",
       "neighbourhood_cleansed_Dorchester                                                                0   \n",
       "neighbourhood_cleansed_Downtown                                                                  0   \n",
       "neighbourhood_cleansed_East Boston                                                               1   \n",
       "neighbourhood_cleansed_Fenway                                                                    0   \n",
       "neighbourhood_cleansed_Harbor Islands                                                            0   \n",
       "neighbourhood_cleansed_Hyde Park                                                                 0   \n",
       "neighbourhood_cleansed_Jamaica Plain                                                             0   \n",
       "neighbourhood_cleansed_Leather District                                                          0   \n",
       "neighbourhood_cleansed_Longwood Medical Area                                                     0   \n",
       "neighbourhood_cleansed_Mattapan                                                                  0   \n",
       "neighbourhood_cleansed_Mission Hill                                                              0   \n",
       "neighbourhood_cleansed_North End                                                                 0   \n",
       "neighbourhood_cleansed_Roslindale                                                                0   \n",
       "neighbourhood_cleansed_Roxbury                                                                   0   \n",
       "neighbourhood_cleansed_South Boston                                                              0   \n",
       "neighbourhood_cleansed_South Boston Waterfront                                                   0   \n",
       "neighbourhood_cleansed_South End                                                                 0   \n",
       "neighbourhood_cleansed_West End                                                                  0   \n",
       "neighbourhood_cleansed_West Roxbury                                                              0   \n",
       "is_business_travel_ready_f                                                                       1   \n",
       "cancellation_policy_flexible                                                                     0   \n",
       "cancellation_policy_moderate                                                                     0   \n",
       "cancellation_policy_strict                                                                       0   \n",
       "cancellation_policy_strict_14_with_grace_period                                                  0   \n",
       "cancellation_policy_super_strict_30                                                              1   \n",
       "cancellation_policy_super_strict_60                                                              0   \n",
       "\n",
       "                                                                                                 1  \\\n",
       "accommodates                                                                             0.0107324   \n",
       "amenities                                        {TV,\"Cable TV\",Internet,Wifi,\"Air conditioning...   \n",
       "bathrooms                                                                               0.00536619   \n",
       "bedrooms                                                                                0.00536619   \n",
       "beds                                                                                    0.00536619   \n",
       "cleaning_fee                                                                              0.214648   \n",
       "description                                      This is a private guest room with private bath...   \n",
       "extra_people                                                                                     0   \n",
       "guests_included                                                                         0.00536619   \n",
       "minimum_nights                                                                           0.0160986   \n",
       "name                                                **$99 Special **   Private! Minutes to center!   \n",
       "neighborhood_overview                            Peacful, Architecturally interesting, historic...   \n",
       "number_of_reviews                                                                         0.305873   \n",
       "price                                                                                     0.778098   \n",
       "review_scores_rating                                                                      0.504422   \n",
       "security_deposit                                                                                 0   \n",
       "space                                            **THE BEST Value in BOSTON!!*** PRIVATE GUEST ...   \n",
       "summary                                          This is a private guest room with private bath...   \n",
       "bed_type_Airbed                                                                                  0   \n",
       "bed_type_Couch                                                                                   0   \n",
       "bed_type_Futon                                                                                   0   \n",
       "bed_type_Pull-out Sofa                                                                           0   \n",
       "bed_type_Real Bed                                                                                1   \n",
       "room_type_Entire home/apt                                                                        1   \n",
       "room_type_Private room                                                                           0   \n",
       "room_type_Shared room                                                                            0   \n",
       "neighbourhood_cleansed_Allston                                                                   0   \n",
       "neighbourhood_cleansed_Back Bay                                                                  0   \n",
       "neighbourhood_cleansed_Bay Village                                                               0   \n",
       "neighbourhood_cleansed_Beacon Hill                                                               0   \n",
       "neighbourhood_cleansed_Brighton                                                                  0   \n",
       "neighbourhood_cleansed_Charlestown                                                               0   \n",
       "neighbourhood_cleansed_Chinatown                                                                 0   \n",
       "neighbourhood_cleansed_Dorchester                                                                0   \n",
       "neighbourhood_cleansed_Downtown                                                                  0   \n",
       "neighbourhood_cleansed_East Boston                                                               0   \n",
       "neighbourhood_cleansed_Fenway                                                                    0   \n",
       "neighbourhood_cleansed_Harbor Islands                                                            0   \n",
       "neighbourhood_cleansed_Hyde Park                                                                 0   \n",
       "neighbourhood_cleansed_Jamaica Plain                                                             0   \n",
       "neighbourhood_cleansed_Leather District                                                          0   \n",
       "neighbourhood_cleansed_Longwood Medical Area                                                     0   \n",
       "neighbourhood_cleansed_Mattapan                                                                  0   \n",
       "neighbourhood_cleansed_Mission Hill                                                              0   \n",
       "neighbourhood_cleansed_North End                                                                 0   \n",
       "neighbourhood_cleansed_Roslindale                                                                0   \n",
       "neighbourhood_cleansed_Roxbury                                                                   1   \n",
       "neighbourhood_cleansed_South Boston                                                              0   \n",
       "neighbourhood_cleansed_South Boston Waterfront                                                   0   \n",
       "neighbourhood_cleansed_South End                                                                 0   \n",
       "neighbourhood_cleansed_West End                                                                  0   \n",
       "neighbourhood_cleansed_West Roxbury                                                              0   \n",
       "is_business_travel_ready_f                                                                       1   \n",
       "cancellation_policy_flexible                                                                     0   \n",
       "cancellation_policy_moderate                                                                     0   \n",
       "cancellation_policy_strict                                                                       1   \n",
       "cancellation_policy_strict_14_with_grace_period                                                  0   \n",
       "cancellation_policy_super_strict_30                                                              0   \n",
       "cancellation_policy_super_strict_60                                                              0   \n",
       "\n",
       "                                                                                                 2  \\\n",
       "accommodates                                                                             0.0135471   \n",
       "amenities                                        {TV,\"Cable TV\",Internet,Wifi,\"Air conditioning...   \n",
       "bathrooms                                                                               0.00338678   \n",
       "bedrooms                                                                                0.00338678   \n",
       "beds                                                                                    0.00677356   \n",
       "cleaning_fee                                                                              0.237075   \n",
       "description                                      ** WELCOME *** FULL PRIVATE APARTMENT In a His...   \n",
       "extra_people                                                                             0.0270942   \n",
       "guests_included                                                                         0.00677356   \n",
       "minimum_nights                                                                           0.0101603   \n",
       "name                                                               $125 Special!! Home Away! Condo   \n",
       "neighborhood_overview                            Peaceful, Architecturally interesting, histori...   \n",
       "number_of_reviews                                                                         0.223528   \n",
       "price                                                                                     0.572366   \n",
       "review_scores_rating                                                                      0.325131   \n",
       "security_deposit                                                                          0.677778   \n",
       "space                                            ** WELCOME *** FULL PRIVATE APARTMENT In a His...   \n",
       "summary                                                                                        NaN   \n",
       "bed_type_Airbed                                                                                  0   \n",
       "bed_type_Couch                                                                                   0   \n",
       "bed_type_Futon                                                                                   0   \n",
       "bed_type_Pull-out Sofa                                                                           0   \n",
       "bed_type_Real Bed                                                                                1   \n",
       "room_type_Entire home/apt                                                                        1   \n",
       "room_type_Private room                                                                           0   \n",
       "room_type_Shared room                                                                            0   \n",
       "neighbourhood_cleansed_Allston                                                                   0   \n",
       "neighbourhood_cleansed_Back Bay                                                                  0   \n",
       "neighbourhood_cleansed_Bay Village                                                               0   \n",
       "neighbourhood_cleansed_Beacon Hill                                                               0   \n",
       "neighbourhood_cleansed_Brighton                                                                  0   \n",
       "neighbourhood_cleansed_Charlestown                                                               0   \n",
       "neighbourhood_cleansed_Chinatown                                                                 0   \n",
       "neighbourhood_cleansed_Dorchester                                                                0   \n",
       "neighbourhood_cleansed_Downtown                                                                  0   \n",
       "neighbourhood_cleansed_East Boston                                                               0   \n",
       "neighbourhood_cleansed_Fenway                                                                    0   \n",
       "neighbourhood_cleansed_Harbor Islands                                                            0   \n",
       "neighbourhood_cleansed_Hyde Park                                                                 0   \n",
       "neighbourhood_cleansed_Jamaica Plain                                                             0   \n",
       "neighbourhood_cleansed_Leather District                                                          0   \n",
       "neighbourhood_cleansed_Longwood Medical Area                                                     0   \n",
       "neighbourhood_cleansed_Mattapan                                                                  0   \n",
       "neighbourhood_cleansed_Mission Hill                                                              0   \n",
       "neighbourhood_cleansed_North End                                                                 0   \n",
       "neighbourhood_cleansed_Roslindale                                                                0   \n",
       "neighbourhood_cleansed_Roxbury                                                                   1   \n",
       "neighbourhood_cleansed_South Boston                                                              0   \n",
       "neighbourhood_cleansed_South Boston Waterfront                                                   0   \n",
       "neighbourhood_cleansed_South End                                                                 0   \n",
       "neighbourhood_cleansed_West End                                                                  0   \n",
       "neighbourhood_cleansed_West Roxbury                                                              0   \n",
       "is_business_travel_ready_f                                                                       1   \n",
       "cancellation_policy_flexible                                                                     0   \n",
       "cancellation_policy_moderate                                                                     0   \n",
       "cancellation_policy_strict                                                                       1   \n",
       "cancellation_policy_strict_14_with_grace_period                                                  0   \n",
       "cancellation_policy_super_strict_30                                                              0   \n",
       "cancellation_policy_super_strict_60                                                              0   \n",
       "\n",
       "                                                                                                 3  \\\n",
       "accommodates                                                                             0.0149208   \n",
       "amenities                                        {TV,\"Cable TV\",Wifi,\"Air conditioning\",Kitchen...   \n",
       "bathrooms                                                                                0.0074604   \n",
       "bedrooms                                                                                 0.0074604   \n",
       "beds                                                                                     0.0074604   \n",
       "cleaning_fee                                                                                     0   \n",
       "description                                      Come stay with me in Boston's Roslindale neigh...   \n",
       "extra_people                                                                              0.149208   \n",
       "guests_included                                                                          0.0074604   \n",
       "minimum_nights                                                                           0.0223812   \n",
       "name                                                Folk Art Spirit in a Leafy, Quiet Neighborhood   \n",
       "neighborhood_overview                            The LOCATION: Roslindale is a safe and diverse...   \n",
       "number_of_reviews                                                                         0.455085   \n",
       "price                                                                                     0.484926   \n",
       "review_scores_rating                                                                      0.731119   \n",
       "security_deposit                                                                                 0   \n",
       "space                                            This is a well-maintained, two-family house bu...   \n",
       "summary                                          Come stay with me in Boston's Roslindale neigh...   \n",
       "bed_type_Airbed                                                                                  0   \n",
       "bed_type_Couch                                                                                   0   \n",
       "bed_type_Futon                                                                                   0   \n",
       "bed_type_Pull-out Sofa                                                                           0   \n",
       "bed_type_Real Bed                                                                                1   \n",
       "room_type_Entire home/apt                                                                        0   \n",
       "room_type_Private room                                                                           1   \n",
       "room_type_Shared room                                                                            0   \n",
       "neighbourhood_cleansed_Allston                                                                   0   \n",
       "neighbourhood_cleansed_Back Bay                                                                  0   \n",
       "neighbourhood_cleansed_Bay Village                                                               0   \n",
       "neighbourhood_cleansed_Beacon Hill                                                               0   \n",
       "neighbourhood_cleansed_Brighton                                                                  0   \n",
       "neighbourhood_cleansed_Charlestown                                                               0   \n",
       "neighbourhood_cleansed_Chinatown                                                                 0   \n",
       "neighbourhood_cleansed_Dorchester                                                                0   \n",
       "neighbourhood_cleansed_Downtown                                                                  0   \n",
       "neighbourhood_cleansed_East Boston                                                               0   \n",
       "neighbourhood_cleansed_Fenway                                                                    0   \n",
       "neighbourhood_cleansed_Harbor Islands                                                            0   \n",
       "neighbourhood_cleansed_Hyde Park                                                                 0   \n",
       "neighbourhood_cleansed_Jamaica Plain                                                             0   \n",
       "neighbourhood_cleansed_Leather District                                                          0   \n",
       "neighbourhood_cleansed_Longwood Medical Area                                                     0   \n",
       "neighbourhood_cleansed_Mattapan                                                                  0   \n",
       "neighbourhood_cleansed_Mission Hill                                                              0   \n",
       "neighbourhood_cleansed_North End                                                                 0   \n",
       "neighbourhood_cleansed_Roslindale                                                                1   \n",
       "neighbourhood_cleansed_Roxbury                                                                   0   \n",
       "neighbourhood_cleansed_South Boston                                                              0   \n",
       "neighbourhood_cleansed_South Boston Waterfront                                                   0   \n",
       "neighbourhood_cleansed_South End                                                                 0   \n",
       "neighbourhood_cleansed_West End                                                                  0   \n",
       "neighbourhood_cleansed_West Roxbury                                                              0   \n",
       "is_business_travel_ready_f                                                                       1   \n",
       "cancellation_policy_flexible                                                                     0   \n",
       "cancellation_policy_moderate                                                                     1   \n",
       "cancellation_policy_strict                                                                       0   \n",
       "cancellation_policy_strict_14_with_grace_period                                                  0   \n",
       "cancellation_policy_super_strict_30                                                              0   \n",
       "cancellation_policy_super_strict_60                                                              0   \n",
       "\n",
       "                                                                                                 4  \n",
       "accommodates                                                                            0.00196004  \n",
       "amenities                                        {TV,\"Cable TV\",Internet,Wifi,\"Air conditioning...  \n",
       "bathrooms                                                                              0.000980018  \n",
       "bedrooms                                                                               0.000980018  \n",
       "beds                                                                                   0.000980018  \n",
       "cleaning_fee                                                                              0.147003  \n",
       "description                                      Bright, 1 bed with curved glass windows facing...  \n",
       "extra_people                                                                                     0  \n",
       "guests_included                                                                        0.000980018  \n",
       "minimum_nights                                                                           0.0137203  \n",
       "name                                                           Curved Glass Studio/1bd facing Park  \n",
       "neighborhood_overview                            Beacon Hill is a historic neighborhood filled ...  \n",
       "number_of_reviews                                                                        0.0147003  \n",
       "price                                                                                    0.0970218  \n",
       "review_scores_rating                                                                     0.0901617  \n",
       "security_deposit                                                                          0.980018  \n",
       "space                                            Fully Furnished studio with enclosed bedroom. ...  \n",
       "summary                                          Bright, 1 bed with curved glass windows facing...  \n",
       "bed_type_Airbed                                                                                  0  \n",
       "bed_type_Couch                                                                                   0  \n",
       "bed_type_Futon                                                                                   0  \n",
       "bed_type_Pull-out Sofa                                                                           0  \n",
       "bed_type_Real Bed                                                                                1  \n",
       "room_type_Entire home/apt                                                                        1  \n",
       "room_type_Private room                                                                           0  \n",
       "room_type_Shared room                                                                            0  \n",
       "neighbourhood_cleansed_Allston                                                                   0  \n",
       "neighbourhood_cleansed_Back Bay                                                                  0  \n",
       "neighbourhood_cleansed_Bay Village                                                               0  \n",
       "neighbourhood_cleansed_Beacon Hill                                                               0  \n",
       "neighbourhood_cleansed_Brighton                                                                  0  \n",
       "neighbourhood_cleansed_Charlestown                                                               0  \n",
       "neighbourhood_cleansed_Chinatown                                                                 0  \n",
       "neighbourhood_cleansed_Dorchester                                                                0  \n",
       "neighbourhood_cleansed_Downtown                                                                  1  \n",
       "neighbourhood_cleansed_East Boston                                                               0  \n",
       "neighbourhood_cleansed_Fenway                                                                    0  \n",
       "neighbourhood_cleansed_Harbor Islands                                                            0  \n",
       "neighbourhood_cleansed_Hyde Park                                                                 0  \n",
       "neighbourhood_cleansed_Jamaica Plain                                                             0  \n",
       "neighbourhood_cleansed_Leather District                                                          0  \n",
       "neighbourhood_cleansed_Longwood Medical Area                                                     0  \n",
       "neighbourhood_cleansed_Mattapan                                                                  0  \n",
       "neighbourhood_cleansed_Mission Hill                                                              0  \n",
       "neighbourhood_cleansed_North End                                                                 0  \n",
       "neighbourhood_cleansed_Roslindale                                                                0  \n",
       "neighbourhood_cleansed_Roxbury                                                                   0  \n",
       "neighbourhood_cleansed_South Boston                                                              0  \n",
       "neighbourhood_cleansed_South Boston Waterfront                                                   0  \n",
       "neighbourhood_cleansed_South End                                                                 0  \n",
       "neighbourhood_cleansed_West End                                                                  0  \n",
       "neighbourhood_cleansed_West Roxbury                                                              0  \n",
       "is_business_travel_ready_f                                                                       1  \n",
       "cancellation_policy_flexible                                                                     0  \n",
       "cancellation_policy_moderate                                                                     0  \n",
       "cancellation_policy_strict                                                                       1  \n",
       "cancellation_policy_strict_14_with_grace_period                                                  0  \n",
       "cancellation_policy_super_strict_30                                                              0  \n",
       "cancellation_policy_super_strict_60                                                              0  "
      ]
     },
     "execution_count": 147,
     "metadata": {},
     "output_type": "execute_result"
    }
   ],
   "source": [
    "df.head().transpose()"
   ]
  },
  {
   "cell_type": "markdown",
   "metadata": {},
   "source": [
    "From the dataset, we see that top 5 predictive features are:\n",
    "- security_deposit\n",
    "- cleaning_fee\n",
    "- extra_people\n",
    "- number_of_reviews\n",
    "- review_scores_rating"
   ]
  }
 ],
 "metadata": {
  "kernelspec": {
   "display_name": "Python 3",
   "language": "python",
   "name": "python3"
  },
  "language_info": {
   "codemirror_mode": {
    "name": "ipython",
    "version": 3
   },
   "file_extension": ".py",
   "mimetype": "text/x-python",
   "name": "python",
   "nbconvert_exporter": "python",
   "pygments_lexer": "ipython3",
   "version": "3.7.1"
  }
 },
 "nbformat": 4,
 "nbformat_minor": 2
}
